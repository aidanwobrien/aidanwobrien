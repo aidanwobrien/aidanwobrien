{
 "cells": [
  {
   "cell_type": "markdown",
   "metadata": {},
   "source": [
    "# Welcome\n",
    "\n",
    "This Jupyter Notebook converts .csv survey results from [QTIP](https://www.https://qtip.geography.wisc.edu/#/) into a format that is closer to being used by the qmethod package in RStudio."
   ]
  },
  {
   "cell_type": "markdown",
   "metadata": {},
   "source": [
    "Lets import the tools we need"
   ]
  },
  {
   "cell_type": "code",
   "execution_count": 30,
   "metadata": {},
   "outputs": [],
   "source": [
    "from collections import defaultdict\n",
    "from dataclasses import make_dataclass\n",
    "import pandas\n",
    "import numpy\n",
    "import os"
   ]
  },
  {
   "cell_type": "markdown",
   "metadata": {},
   "source": [
    "Now point to the file directory of the .csv survey from QTIP"
   ]
  },
  {
   "cell_type": "code",
   "execution_count": 10,
   "metadata": {},
   "outputs": [
    {
     "name": "stdout",
     "output_type": "stream",
     "text": [
      "Input your file directory: /Users/macuser/Documents/Jupyter Notebook/qtip_survey.csv\n"
     ]
    }
   ],
   "source": [
    "csv_in_file = input(\"Input your file directory: \")"
   ]
  },
  {
   "cell_type": "markdown",
   "metadata": {},
   "source": [
    "Every QTIP survey is unique. Lets make this work for your QTIP survey."
   ]
  },
  {
   "cell_type": "code",
   "execution_count": 11,
   "metadata": {},
   "outputs": [
    {
     "name": "stdout",
     "output_type": "stream",
     "text": [
      "How many columns did your survey have? 9\n"
     ]
    }
   ],
   "source": [
    "scale_answer = int(input(\"How many columns did your survey have? \")) - 5"
   ]
  },
  {
   "cell_type": "markdown",
   "metadata": {},
   "source": [
    "Lets read the QTIP survey results in as a table"
   ]
  },
  {
   "cell_type": "code",
   "execution_count": 19,
   "metadata": {},
   "outputs": [
    {
     "name": "stdout",
     "output_type": "stream",
     "text": [
      "[[1969, '1971, 1970', '1982, 1965, 1988', '1975, 1972, 1974, 1977, 1978', '1990, 1991, 1973, 1976, 1966, 1987, 1979', '1986, 1983, 1993, 1992, 1985', '1981, 1968, 1989', '1984, 1967', 1980], [1965, '1969, 1970', '1971, 1972, 1973', '1984, 1979, 1982, 1989, 1990', '1992, 1977, 1978, 1983, 1986, 1987, 1991', '1966, 1968, 1974, 1975, 1976', '1985, 1981, 1988', '1967, 1993', 1980], [1971, '1969, 1972', '1970, 1973, 1988', '1977, 1978, 1987, 1982, 1966', '1983, 1967, 1974, 1985, 1986, 1991, 1990', '1981, 1980, 1975, 1968, 1989', '1965, 1979, 1993', '1992, 1976', 1984], [1965, '1975, 1979', '1969, 1970, 1974', '1971, 1972, 1973, 1986, 1987', '1990, 1978, 1966, 1982, 1989, 1980, 1976', '1985, 1988, 1993, 1991, 1967', '1977, 1968, 1981', '1984, 1983', 1992], [1971, '1969, 1975', '1970, 1974, 1989', '1966, 1976, 1973, 1972, 1988', '1965, 1979, 1977, 1968, 1981, 1982, 1990', '1992, 1967, 1978, 1986, 1991', '1983, 1985, 1987', '1993, 1980', 1984], [1965, '1969, 1971', '1991, 1979, 1984', '1970, 1987, 1986, 1983, 1990', '1976, 1988, 1993, 1985, 1982, 1989, 1974', '1977, 1972, 1973, 1975, 1980', '1967, 1968, 1981', '1992, 1978', 1966], [1965, '1971, 1990', '1988, 1981, 1989', '1976, 1970, 1978, 1977, 1969', '1991, 1979, 1987, 1986, 1985, 1993, 1982', '1980, 1966, 1974, 1975, 1983', '1973, 1972, 1984', '1968, 1967', 1992], [1975, '1974, 1985', '1966, 1979, 1981', '1992, 1971, 1986, 1987, 1988', '1972, 1973, 1977, 1980, 1983, 1991, 1989', '1978, 1984, 1993, 1976, 1982', '1969, 1970, 1990', '1965, 1968', 1967], [1968, '1989, 1990', '1978, 1971, 1988', '1987, 1986, 1975, 1969, 1982', '1985, 1983, 1981, 1993, 1976, 1965, 1991', '1972, 1973, 1977, 1979, 1980', '1966, 1974, 1984', '1992, 1970', 1967], [1982, '1966, 1988', '1965, 1978, 1987', '1971, 1977, 1973, 1972, 1974', '1969, 1983, 1975, 1979, 1976, 1990, 1992', '1986, 1981, 1993, 1985, 1989', '1967, 1968, 1991', '1970, 1980', 1984], [1965, '1969, 1971', '1972, 1970, 1979', '1992, 1973, 1976, 1975, 1993', '1988, 1983, 1985, 1980, 1986, 1989, 1987', '1974, 1968, 1967, 1982, 1990', '1977, 1978, 1984', '1991, 1981', 1966], [1971, '1967, 1969', '1988, 1982, 1977', '1984, 1974, 1991, 1989, 1978', '1985, 1979, 1980, 1975, 1970, 1965, 1987', '1983, 1966, 1968, 1986, 1990', '1973, 1972, 1981', '1976, 1993', 1992], [1979, '1969, 1978', '1971, 1970, 1973', '1974, 1975, 1972, 1967, 1980', '1968, 1976, 1977, 1986, 1987, 1982, 1988', '1985, 1983, 1984, 1966, 1989', '1991, 1965, 1981', '1992, 1990', 1993], [1972, '1971, 1973', '1969, 1975, 1979', '1966, 1967, 1978, 1968, 1985', '1965, 1974, 1976, 1977, 1986, 1987, 1991', '1992, 1970, 1981, 1982, 1988', '1989, 1983, 1990', '1993, 1980', 1984], [1975, '1987, 1991', '1974, 1982, 1978', '1985, 1979, 1973, 1992, 1989', '1969, 1971, 1972, 1993, 1981, 1983, 1988', '1986, 1980, 1977, 1966, 1990', '1968, 1970, 1976', '1967, 1984', 1965], [1971, '1969, 1967', '1975, 1968, 1982', '1991, 1993, 1979, 1986, 1988', '1990, 1965, 1981, 1983, 1980, 1987, 1989', '1992, 1972, 1976, 1973, 1985', '1978, 1970, 1966', '1974, 1977', 1984], [1987, '1978, 1977', '1969, 1972, 1973', '1989, 1986, 1965, 1970, 1971', '1982, 1975, 1968, 1983, 1991, 1990, 1988', '1976, 1974, 1992, 1979, 1985', '1967, 1966, 1980', '1984, 1993', 1981], [1984, '1982, 1989', '1987, 1971, 1990', '1981, 1978, 1977, 1969, 1986', '1979, 1980, 1991, 1972, 1970, 1968, 1983', '1973, 1974, 1975, 1988, 1976', '1992, 1967, 1985', '1966, 1965', 1993], [1979, '1969, 1971', '1988, 1970, 1990', '1967, 1975, 1974, 1991, 1989', '1985, 1986, 1987, 1976, 1981, 1978, 1982', '1980, 1984, 1977, 1973, 1983', '1966, 1965, 1993', '1992, 1972', 1968], [1979, '1965, 1969', '1974, 1975, 1972', '1970, 1971, 1987, 1978, 1977', '1982, 1991, 1984, 1983, 1973, 1993, 1989', '1986, 1967, 1968, 1985, 1988', '1976, 1992, 1990', '1966, 1980', 1981], [1982, '1975, 1979', '1992, 1969, 1978', '1977, 1971, 1985, 1986, 1972', '1993, 1973, 1967, 1970, 1983, 1987, 1991', '1976, 1974, 1984, 1966, 1981', '1990, 1965, 1989', '1980, 1968', 1988], [1979, '1989, 1969', '1987, 1974, 1965', '1971, 1970, 1975, 1976, 1973', '1984, 1986, 1978, 1977, 1966, 1982, 1993', '1983, 1972, 1992, 1985, 1990', '1991, 1980, 1988', '1967, 1981', 1968]]\n",
      "             0\n",
      "0   0yErNI2GmC\n",
      "1   5BS82FIpzv\n",
      "2   5DtQC7japS\n",
      "3   5yj2QbcxU3\n",
      "4   A3s6yNx9cq\n",
      "5   AwjsX8pPdo\n",
      "6   CyUDYcZK79\n",
      "7   DwOy9cxgY4\n",
      "8   fxUvwQ5YzK\n",
      "9   g8t5jXezWR\n",
      "10  hAsViEakQR\n",
      "11  I5bziogBTu\n",
      "12  iduXgx6NWe\n",
      "13  j9RxXlayTd\n",
      "14  jS6fipn0Fu\n",
      "15  lgeCQvRBH3\n",
      "16  omlcTxShUY\n",
      "17  qker0REzYO\n",
      "18  S41ITHLyQ8\n",
      "19  sYNqwCpQa4\n",
      "20  uEOR3ywcSd\n",
      "21  VKQIlciZPW\n"
     ]
    }
   ],
   "source": [
    "participant_df = pandas.read_csv((csv_in_file), header = None, skiprows = [0], usecols = [i for i in range (0,1)])\n",
    "QTIP_survey = pandas.read_csv((csv_in_file), header = None, skiprows = [0], usecols = [i for i in range(1,(scale_answer+6))])\n",
    "QTIP_survey_results = [list(row) for row in QTIP_survey.values]\n",
    "print (QTIP_survey_results)\n",
    "print (participant_df)"
   ]
  },
  {
   "cell_type": "markdown",
   "metadata": {},
   "source": [
    "Iterate through the survey and organize the data into a new dataframe"
   ]
  },
  {
   "cell_type": "code",
   "execution_count": 34,
   "metadata": {},
   "outputs": [
    {
     "name": "stdout",
     "output_type": "stream",
     "text": [
      "          0     1965  1966  1967  1968  1969  1970  1971  1972  1973  ...  \\\n",
      "0   0yErNI2GmC    -2     0     3     2    -4    -3    -3    -1     0  ...   \n",
      "1   5BS82FIpzv    -4     1     3     1    -3    -3    -2    -2    -2  ...   \n",
      "2   5DtQC7japS     2    -1     0     1    -3    -2    -4    -3    -2  ...   \n",
      "3   5yj2QbcxU3    -4     0     1     2    -2    -2    -1    -1    -1  ...   \n",
      "4   A3s6yNx9cq     0    -1     1     0    -3    -2    -4    -1    -1  ...   \n",
      "5   AwjsX8pPdo    -4     4     2     2    -3    -1    -3     1     1  ...   \n",
      "6   CyUDYcZK79    -4     1     3     3    -1    -1    -3     2     2  ...   \n",
      "7   DwOy9cxgY4     3    -2     4     3     2     2    -1     0     0  ...   \n",
      "8   fxUvwQ5YzK     0     2     4    -4    -1     3    -2     1     1  ...   \n",
      "9   g8t5jXezWR    -2    -3     2     2     0     3    -1    -1    -1  ...   \n",
      "10  hAsViEakQR    -4     4     1     1    -3    -2    -3    -2    -1  ...   \n",
      "11  I5bziogBTu     0     1    -3     1    -3     0    -4     2     2  ...   \n",
      "12  iduXgx6NWe     2     1    -1     0    -3    -2    -2    -1    -2  ...   \n",
      "13  j9RxXlayTd     0    -1    -1    -1    -2     1    -3    -4    -3  ...   \n",
      "14  jS6fipn0Fu     4     1     3     2     0     2     0     0    -1  ...   \n",
      "15  lgeCQvRBH3     0     2    -3    -2    -3     2    -4     1     1  ...   \n",
      "16  omlcTxShUY    -1     2     2     0    -2    -1    -1    -2    -2  ...   \n",
      "17  qker0REzYO     3     3     2     0    -1     0    -2     0     1  ...   \n",
      "18  S41ITHLyQ8     2     2    -1     4    -3    -2    -3     3     1  ...   \n",
      "19  sYNqwCpQa4    -3     3     1     1    -3    -1    -1    -2     0  ...   \n",
      "20  uEOR3ywcSd     2     1     0     3    -2     0    -1    -1     0  ...   \n",
      "21  VKQIlciZPW    -2     0     3     4    -3    -1    -1     1    -1  ...   \n",
      "\n",
      "    1984  1985  1986  1987  1988  1989  1990  1991  1992  1993  \n",
      "0      3     1     1     0    -2     2     0     0     1     1  \n",
      "1     -1     2     0     0     2    -1    -1     0     0     3  \n",
      "2      4     0     0    -1    -2     1     0     0     3     2  \n",
      "3      3     1    -1    -1     1     0     0     1     4     1  \n",
      "4      4     2     1     2    -1    -2     0     1     1     3  \n",
      "5     -2     0    -1    -1     0     0    -1    -2     3     0  \n",
      "6      2     0     0     0    -2    -2    -3     0     4     0  \n",
      "7      1    -3    -1    -1    -1     0     2     0    -1     1  \n",
      "8      2     0    -1    -1    -2    -3    -3     0     3     0  \n",
      "9      4     1     1    -2    -3     1     0     2     0     1  \n",
      "10     2     0     0     0     0     0     1     3    -1    -1  \n",
      "11    -1     0     1     0    -2    -1     1    -1     4     3  \n",
      "12     1     1     0     0     0     1     3     2     3     4  \n",
      "13     4    -1     0     0     1     2     2     0     1     3  \n",
      "14     3    -1     1    -3     0    -1     1    -3    -1     0  \n",
      "15     4     1    -1     0    -1     0     0    -1     1    -1  \n",
      "16     3     1    -1    -4     0    -1     0     0     1     3  \n",
      "17    -4     2    -1    -2     1    -3    -2     0     2     4  \n",
      "18     1     0     0     0    -2    -1    -2    -1     3     2  \n",
      "19     0     1     1    -1     1     0     2     0     2     0  \n",
      "20     1    -1    -1     0     4     2     2     0    -2     0  \n",
      "21     0     1     0    -2     2    -3     1     2     1     0  \n",
      "\n",
      "[22 rows x 30 columns]\n"
     ]
    }
   ],
   "source": [
    "def user_responses(user):\n",
    "  # create temporary dictionary that defaults as a list\n",
    "  answer_values = defaultdict(list)\n",
    "  # iterate through each answer a user gave. Enumerate gives us an index\n",
    "  # which we extract to the numeric value of the answer (-4...4) later\n",
    "  for index, value in enumerate(user):\n",
    "    # see if it's an integer\n",
    "    if isinstance(value, int):\n",
    "      # scale the answer depending on the survey\n",
    "      answer_values[value] = index - scale_answer\n",
    "    else:\n",
    "      # if the response is a string, remove the comma and turn it into a list\n",
    "      temp = value.split(\", \")\n",
    "      for i in temp:        \n",
    "          # now that it's a list, scale and append to the answer_values list\n",
    "        answer_values[int(i)] = index - scale_answer\n",
    "    # return so next iterations don't overwrite data\n",
    "  return dict(answer_values)\n",
    "\n",
    "def convert_table(survey_results):\n",
    "  parsed_survey = []\n",
    "  # iterate through each user's responses\n",
    "  for user in survey_results:\n",
    "    parsed_survey.append(user_responses(user))\n",
    "  # return the dictionary as a dictionary, not a defaultdict\n",
    "  return parsed_survey\n",
    "\n",
    "# sort the dictionary into a table\n",
    "sorted_table = convert_table(QTIP_survey_results)\n",
    "\n",
    "# turn the table into a dataframe using pandas, which is a way to render CSVs\n",
    "dataframe = pandas.DataFrame(sorted_table)\n",
    "# organize the CSV so the columns are in ascending order\n",
    "dataframe = dataframe.reindex(sorted(dataframe.columns), axis = 1)\n",
    "\n",
    "#add the participants back in\n",
    "df = participant_df.join(dataframe)\n",
    "\n",
    "print (df)"
   ]
  },
  {
   "cell_type": "markdown",
   "metadata": {},
   "source": [
    "Great! Your survey is now organized in a more manageable fashion, especially for use with the *qmethod_package* in RStudio."
   ]
  },
  {
   "cell_type": "code",
   "execution_count": null,
   "metadata": {},
   "outputs": [],
   "source": []
  },
  {
   "cell_type": "markdown",
   "metadata": {},
   "source": [
    "Lets save the organized survey as a new .CSV file to your working directory."
   ]
  },
  {
   "cell_type": "code",
   "execution_count": 35,
   "metadata": {},
   "outputs": [],
   "source": [
    "dataframe.to_csv(\"REFORMATTED_QTIP_SURVEY.csv\")"
   ]
  },
  {
   "cell_type": "markdown",
   "metadata": {},
   "source": [
    "Lets make the survey work with RStudio"
   ]
  },
  {
   "cell_type": "code",
   "execution_count": 63,
   "metadata": {},
   "outputs": [],
   "source": [
    "dataframe.to_csv(\"REFORMATTED_QTIP_SURVEY.dat\", header=None, )"
   ]
  },
  {
   "cell_type": "markdown",
   "metadata": {},
   "source": [
    "It can be helpful to look at the data in this way, however, there are still a few steps required to get the data in the necessary format to be used by the *qmethod_package* in RStudio. Consult [this helpful tutorial](https://www.youtube.com/watch?v=CqkOanwLFPA&ab_channel=MeasurementEvaluationResearchatWKU) (also embedded below) for a walkthrough on how to create a .DAT file for Q analysis with the REFORMATTED_QTIP_SURVEY.CSV file you just created."
   ]
  },
  {
   "cell_type": "code",
   "execution_count": null,
   "metadata": {},
   "outputs": [],
   "source": [
    "from IPython.display import YouTubeVideo\n",
    "YouTubeVideo('CqkOanwLFPA')"
   ]
  },
  {
   "cell_type": "code",
   "execution_count": null,
   "metadata": {},
   "outputs": [],
   "source": []
  },
  {
   "cell_type": "code",
   "execution_count": null,
   "metadata": {},
   "outputs": [],
   "source": []
  }
 ],
 "metadata": {
  "kernelspec": {
   "display_name": "Python 3",
   "language": "python",
   "name": "python3"
  }
 },
 "nbformat": 4,
 "nbformat_minor": 4
}
